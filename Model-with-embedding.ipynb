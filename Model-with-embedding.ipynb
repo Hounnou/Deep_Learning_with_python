{
 "cells": [
  {
   "cell_type": "markdown",
   "metadata": {
    "colab_type": "text",
    "id": "zucOjE7Ae7NX"
   },
   "source": [
    "# Classify Movie Reviews using Embeddings"
   ]
  },
  {
   "cell_type": "code",
   "execution_count": 1,
   "metadata": {
    "colab": {
     "base_uri": "https://localhost:8080/",
     "height": 373
    },
    "colab_type": "code",
    "id": "IS6lu8L6ezjp",
    "outputId": "f2726b12-b73c-46c1-9f0d-af92c4caac73"
   },
   "outputs": [
    {
     "name": "stdout",
     "output_type": "stream",
     "text": [
      "Requirement already satisfied: tensorflow==2.0.0.beta0 in /usr/local/lib/python3.6/dist-packages (2.0.0b0)\n",
      "Requirement already satisfied: tf-estimator-nightly<1.14.0.dev2019060502,>=1.14.0.dev2019060501 in /usr/local/lib/python3.6/dist-packages (from tensorflow==2.0.0.beta0) (1.14.0.dev2019060501)\n",
      "Requirement already satisfied: wheel>=0.26 in /usr/local/lib/python3.6/dist-packages (from tensorflow==2.0.0.beta0) (0.33.4)\n",
      "Requirement already satisfied: keras-preprocessing>=1.0.5 in /usr/local/lib/python3.6/dist-packages (from tensorflow==2.0.0.beta0) (1.1.0)\n",
      "Requirement already satisfied: keras-applications>=1.0.6 in /usr/local/lib/python3.6/dist-packages (from tensorflow==2.0.0.beta0) (1.0.8)\n",
      "Requirement already satisfied: grpcio>=1.8.6 in /usr/local/lib/python3.6/dist-packages (from tensorflow==2.0.0.beta0) (1.15.0)\n",
      "Requirement already satisfied: google-pasta>=0.1.6 in /usr/local/lib/python3.6/dist-packages (from tensorflow==2.0.0.beta0) (0.1.7)\n",
      "Requirement already satisfied: gast>=0.2.0 in /usr/local/lib/python3.6/dist-packages (from tensorflow==2.0.0.beta0) (0.2.2)\n",
      "Requirement already satisfied: termcolor>=1.1.0 in /usr/local/lib/python3.6/dist-packages (from tensorflow==2.0.0.beta0) (1.1.0)\n",
      "Requirement already satisfied: tb-nightly<1.14.0a20190604,>=1.14.0a20190603 in /usr/local/lib/python3.6/dist-packages (from tensorflow==2.0.0.beta0) (1.14.0a20190603)\n",
      "Requirement already satisfied: protobuf>=3.6.1 in /usr/local/lib/python3.6/dist-packages (from tensorflow==2.0.0.beta0) (3.7.1)\n",
      "Requirement already satisfied: numpy<2.0,>=1.14.5 in /usr/local/lib/python3.6/dist-packages (from tensorflow==2.0.0.beta0) (1.16.2)\n",
      "Requirement already satisfied: wrapt>=1.11.1 in /usr/local/lib/python3.6/dist-packages (from tensorflow==2.0.0.beta0) (1.11.1)\n",
      "Requirement already satisfied: astor>=0.6.0 in /usr/local/lib/python3.6/dist-packages (from tensorflow==2.0.0.beta0) (0.8.0)\n",
      "Requirement already satisfied: absl-py>=0.7.0 in /usr/local/lib/python3.6/dist-packages (from tensorflow==2.0.0.beta0) (0.7.1)\n",
      "Requirement already satisfied: six>=1.10.0 in /usr/local/lib/python3.6/dist-packages (from tensorflow==2.0.0.beta0) (1.12.0)\n",
      "Requirement already satisfied: h5py in /usr/local/lib/python3.6/dist-packages (from keras-applications>=1.0.6->tensorflow==2.0.0.beta0) (2.8.0)\n",
      "Requirement already satisfied: markdown>=2.6.8 in /usr/local/lib/python3.6/dist-packages (from tb-nightly<1.14.0a20190604,>=1.14.0a20190603->tensorflow==2.0.0.beta0) (3.1.1)\n",
      "Requirement already satisfied: werkzeug>=0.11.15 in /usr/local/lib/python3.6/dist-packages (from tb-nightly<1.14.0a20190604,>=1.14.0a20190603->tensorflow==2.0.0.beta0) (0.15.4)\n",
      "Requirement already satisfied: setuptools>=41.0.0 in /usr/local/lib/python3.6/dist-packages (from tb-nightly<1.14.0a20190604,>=1.14.0a20190603->tensorflow==2.0.0.beta0) (41.0.1)\n"
     ]
    }
   ],
   "source": [
    "!pip install tensorflow==2.0.0.beta0"
   ]
  },
  {
   "cell_type": "code",
   "execution_count": 2,
   "metadata": {
    "colab": {
     "base_uri": "https://localhost:8080/",
     "height": 34
    },
    "colab_type": "code",
    "id": "iKHd1Q6NiE4k",
    "outputId": "459ced20-fad2-48c1-e638-b9834a9beb58"
   },
   "outputs": [
    {
     "name": "stdout",
     "output_type": "stream",
     "text": [
      "Requirement already satisfied: numpy==1.16.2 in /usr/local/lib/python3.6/dist-packages (1.16.2)\n"
     ]
    }
   ],
   "source": [
    "#this version of numpy is required to avoid an error related to numpy defaulting to not allowing pickle files\n",
    "!pip install numpy==1.16.2"
   ]
  },
  {
   "cell_type": "code",
   "execution_count": 0,
   "metadata": {
    "colab": {},
    "colab_type": "code",
    "id": "bmnxzrmdfG0w"
   },
   "outputs": [],
   "source": [
    "import tensorflow as tf\n",
    "from tensorflow.keras import datasets, preprocessing, models, layers\n",
    "import numpy as np"
   ]
  },
  {
   "cell_type": "markdown",
   "metadata": {
    "colab_type": "text",
    "id": "Vo95ZwgQf2Sx"
   },
   "source": [
    "## Import IMDB Reviews"
   ]
  },
  {
   "cell_type": "code",
   "execution_count": 0,
   "metadata": {
    "colab": {},
    "colab_type": "code",
    "id": "PLWxVlief0_W"
   },
   "outputs": [],
   "source": [
    "imdb = datasets.imdb\n",
    "\n",
    "#Let's work with a dictionary of 20,000 words\n",
    "NUM_WORDS = 20000"
   ]
  },
  {
   "cell_type": "code",
   "execution_count": 0,
   "metadata": {
    "colab": {},
    "colab_type": "code",
    "id": "0xQZ-bObgKlz"
   },
   "outputs": [],
   "source": [
    "#load IMDB dataset as lists of integers\n",
    "(train_data, train_labels), (test_data, test_labels) = imdb.load_data(num_words=NUM_WORDS, )"
   ]
  },
  {
   "cell_type": "markdown",
   "metadata": {
    "colab_type": "text",
    "id": "W03Wj6JLi6uf"
   },
   "source": [
    "## Get Word Index To See Words"
   ]
  },
  {
   "cell_type": "code",
   "execution_count": 0,
   "metadata": {
    "colab": {},
    "colab_type": "code",
    "id": "_dc7lg-Bgg9M"
   },
   "outputs": [],
   "source": [
    "word_index = imdb.get_word_index()\n",
    "\n",
    "# The first indices are reserved\n",
    "word_index = {k: (v+3) for k, v in word_index.items()}\n",
    "word_index['<PAD>'] = 0\n",
    "word_index['<START>'] = 1\n",
    "word_index['<UNK>'] = 2\n",
    "word_index['<UNUSED>'] = 3\n",
    "\n",
    "reverse_word_index = dict([(value, key) for (key, value) in word_index.items()])"
   ]
  },
  {
   "cell_type": "markdown",
   "metadata": {
    "colab_type": "text",
    "id": "kV4_zcUokDrW"
   },
   "source": [
    "## Inspect First Review"
   ]
  },
  {
   "cell_type": "code",
   "execution_count": 7,
   "metadata": {
    "colab": {
     "base_uri": "https://localhost:8080/",
     "height": 54
    },
    "colab_type": "code",
    "id": "XwNOnsxcj-vo",
    "outputId": "b7c41bd4-55fb-4972-9292-7def00d3cc43"
   },
   "outputs": [
    {
     "name": "stdout",
     "output_type": "stream",
     "text": [
      "<START> this film was just brilliant casting location scenery story direction everyone's really suited the part they played and you could just imagine being there robert <UNK> is an amazing actor and now the same being director <UNK> father came from the same scottish island as myself so i loved the fact there was a real connection with this film the witty remarks throughout the film were great it was just brilliant so much that i bought the film as soon as it was released for retail and would recommend it to everyone to watch and the fly fishing was amazing really cried at the end it was so sad and you know what they say if you cry at a film it must have been good and this definitely was also congratulations to the two little boy's that played the <UNK> of norman and paul they were just brilliant children are often left out of the praising list i think because the stars that play them all grown up are such a big profile for the whole film but these children are amazing and should be praised for what they have done don't you think the whole story was so lovely because it was true and was someone's life after all that was shared with us all\n"
     ]
    }
   ],
   "source": [
    "print(' '.join([reverse_word_index[i] for i in train_data[0]]))"
   ]
  },
  {
   "cell_type": "markdown",
   "metadata": {
    "colab_type": "text",
    "id": "4pK9UD4AkeHS"
   },
   "source": [
    "## Was this a positive review?"
   ]
  },
  {
   "cell_type": "code",
   "execution_count": 8,
   "metadata": {
    "colab": {
     "base_uri": "https://localhost:8080/",
     "height": 34
    },
    "colab_type": "code",
    "id": "EGUA9iVCkUyA",
    "outputId": "e18ddd09-7453-4804-a547-1908a580f232"
   },
   "outputs": [
    {
     "name": "stdout",
     "output_type": "stream",
     "text": [
      "1\n"
     ]
    }
   ],
   "source": [
    "print(train_labels[0])"
   ]
  },
  {
   "cell_type": "markdown",
   "metadata": {
    "colab_type": "text",
    "id": "G7f5yl4RkvsX"
   },
   "source": [
    "## Note: Reviews have variable length"
   ]
  },
  {
   "cell_type": "code",
   "execution_count": 9,
   "metadata": {
    "colab": {
     "base_uri": "https://localhost:8080/",
     "height": 34
    },
    "colab_type": "code",
    "id": "X7woa4z9kiDY",
    "outputId": "21861514-c243-4c6a-ad8a-89ec9b25a0a6"
   },
   "outputs": [
    {
     "name": "stdout",
     "output_type": "stream",
     "text": [
      "Len 0: 218, Len 1: 189, Len 2: 141\n"
     ]
    }
   ],
   "source": [
    "print('Len 0: {}, Len 1: {}, Len 2: {}'.format(len(train_data[0]), len(train_data[1]), len(train_data[2])))"
   ]
  },
  {
   "cell_type": "markdown",
   "metadata": {
    "colab_type": "text",
    "id": "k2jEGxJAlPrQ"
   },
   "source": [
    "Variable lenght is fixed by truncating after a certain number of words. For reviews that are less than the number of words we are cutting off, we pad."
   ]
  },
  {
   "cell_type": "code",
   "execution_count": 0,
   "metadata": {
    "colab": {},
    "colab_type": "code",
    "id": "IDqcmd5klEOK"
   },
   "outputs": [],
   "source": [
    "LEN_WORDS = 300\n",
    "train_data = preprocessing.sequence.pad_sequences(train_data, maxlen=LEN_WORDS)\n",
    "test_data = preprocessing.sequence.pad_sequences(test_data, maxlen=LEN_WORDS)"
   ]
  },
  {
   "cell_type": "code",
   "execution_count": 11,
   "metadata": {
    "colab": {
     "base_uri": "https://localhost:8080/",
     "height": 34
    },
    "colab_type": "code",
    "id": "HIWzA-Mwl4XX",
    "outputId": "3061e7dd-0a00-4632-9d86-b92fdc48b258"
   },
   "outputs": [
    {
     "name": "stdout",
     "output_type": "stream",
     "text": [
      "Len 0: 300, Len 1: 300, Len 2: 300\n"
     ]
    }
   ],
   "source": [
    "print('Len 0: {}, Len 1: {}, Len 2: {}'.format(len(train_data[0]), len(train_data[1]), len(train_data[2])))"
   ]
  },
  {
   "cell_type": "code",
   "execution_count": 12,
   "metadata": {
    "colab": {
     "base_uri": "https://localhost:8080/",
     "height": 34
    },
    "colab_type": "code",
    "id": "_DgQxPnAl5yX",
    "outputId": "141180ef-f28e-47f9-c688-84da2a03b7b5"
   },
   "outputs": [
    {
     "name": "stdout",
     "output_type": "stream",
     "text": [
      "(25000, 300)\n"
     ]
    }
   ],
   "source": [
    "print(train_data.shape)"
   ]
  },
  {
   "cell_type": "markdown",
   "metadata": {
    "colab_type": "text",
    "id": "tWA3JckUm7Vz"
   },
   "source": [
    "## Sequential Model with Dense Layers"
   ]
  },
  {
   "cell_type": "code",
   "execution_count": 13,
   "metadata": {
    "colab": {
     "base_uri": "https://localhost:8080/",
     "height": 336
    },
    "colab_type": "code",
    "id": "shK3ncSvnBen",
    "outputId": "1b54437f-6328-446b-a403-a9379cd7eb75"
   },
   "outputs": [
    {
     "name": "stdout",
     "output_type": "stream",
     "text": [
      "Model: \"sequential\"\n",
      "_________________________________________________________________\n",
      "Layer (type)                 Output Shape              Param #   \n",
      "=================================================================\n",
      "dense (Dense)                (None, 300)               90300     \n",
      "_________________________________________________________________\n",
      "dense_1 (Dense)              (None, 300)               90300     \n",
      "_________________________________________________________________\n",
      "dense_2 (Dense)              (None, 300)               90300     \n",
      "_________________________________________________________________\n",
      "dense_3 (Dense)              (None, 300)               90300     \n",
      "_________________________________________________________________\n",
      "dense_4 (Dense)              (None, 1)                 301       \n",
      "=================================================================\n",
      "Total params: 361,501\n",
      "Trainable params: 361,501\n",
      "Non-trainable params: 0\n",
      "_________________________________________________________________\n",
      "None\n"
     ]
    }
   ],
   "source": [
    "dense_model = models.Sequential([\n",
    "    layers.Dense(300, input_shape=(300,), activation='relu'),\n",
    "    layers.Dense(300, activation='relu'),\n",
    "    layers.Dense(300, activation='relu'),\n",
    "    layers.Dense(300, activation='relu'),\n",
    "    layers.Dense(1, activation='sigmoid')\n",
    "])\n",
    "print(dense_model.summary())"
   ]
  },
  {
   "cell_type": "code",
   "execution_count": 14,
   "metadata": {
    "colab": {
     "base_uri": "https://localhost:8080/",
     "height": 474
    },
    "colab_type": "code",
    "id": "p_pNz8Hgn2N3",
    "outputId": "5fc9681b-34a3-4ef4-95c0-55efa21b3be5"
   },
   "outputs": [
    {
     "name": "stderr",
     "output_type": "stream",
     "text": [
      "WARNING: Logging before flag parsing goes to stderr.\n",
      "W0612 10:51:50.880932 139758369310592 deprecation.py:323] From /usr/local/lib/python3.6/dist-packages/tensorflow/python/ops/math_grad.py:1250: add_dispatch_support.<locals>.wrapper (from tensorflow.python.ops.array_ops) is deprecated and will be removed in a future version.\n",
      "Instructions for updating:\n",
      "Use tf.where in 2.0, which has the same broadcast rule as np.where\n"
     ]
    },
    {
     "name": "stdout",
     "output_type": "stream",
     "text": [
      "Train on 25000 samples\n",
      "Epoch 1/10\n",
      "25000/25000 [==============================] - 4s 150us/sample - loss: 7.6590 - accuracy: 0.5005\n",
      "Epoch 2/10\n",
      "25000/25000 [==============================] - 3s 124us/sample - loss: 7.6666 - accuracy: 0.5000\n",
      "Epoch 3/10\n",
      "25000/25000 [==============================] - 3s 123us/sample - loss: 7.6666 - accuracy: 0.5000\n",
      "Epoch 4/10\n",
      "25000/25000 [==============================] - 3s 123us/sample - loss: 7.6666 - accuracy: 0.5000\n",
      "Epoch 5/10\n",
      "25000/25000 [==============================] - 3s 124us/sample - loss: 7.6666 - accuracy: 0.5000\n",
      "Epoch 6/10\n",
      "25000/25000 [==============================] - 3s 124us/sample - loss: 7.6666 - accuracy: 0.5000\n",
      "Epoch 7/10\n",
      "25000/25000 [==============================] - 3s 123us/sample - loss: 7.6666 - accuracy: 0.5000\n",
      "Epoch 8/10\n",
      "25000/25000 [==============================] - 3s 124us/sample - loss: 7.6666 - accuracy: 0.5000\n",
      "Epoch 9/10\n",
      "25000/25000 [==============================] - 3s 127us/sample - loss: 7.6666 - accuracy: 0.5000\n",
      "Epoch 10/10\n",
      "25000/25000 [==============================] - 3s 126us/sample - loss: 7.6666 - accuracy: 0.5000\n"
     ]
    },
    {
     "data": {
      "text/plain": [
       "<tensorflow.python.keras.callbacks.History at 0x7f1bc7171320>"
      ]
     },
     "execution_count": 14,
     "metadata": {
      "tags": []
     },
     "output_type": "execute_result"
    }
   ],
   "source": [
    "dense_model.compile(optimizer='adam', loss='binary_crossentropy', metrics=['accuracy'])\n",
    "dense_model.fit(train_data, train_labels, epochs=10)"
   ]
  },
  {
   "cell_type": "markdown",
   "metadata": {
    "colab_type": "text",
    "id": "ErZpW218rkEy"
   },
   "source": [
    "## Introduce Embeddings"
   ]
  },
  {
   "cell_type": "code",
   "execution_count": 15,
   "metadata": {
    "colab": {
     "base_uri": "https://localhost:8080/",
     "height": 269
    },
    "colab_type": "code",
    "id": "B_NJramcoHNf",
    "outputId": "d6fa68b2-8147-47e8-8595-6066f60e9c86"
   },
   "outputs": [
    {
     "name": "stdout",
     "output_type": "stream",
     "text": [
      "Model: \"sequential_1\"\n",
      "_________________________________________________________________\n",
      "Layer (type)                 Output Shape              Param #   \n",
      "=================================================================\n",
      "embedding (Embedding)        (None, 300, 16)           320000    \n",
      "_________________________________________________________________\n",
      "global_average_pooling1d (Gl (None, 16)                0         \n",
      "_________________________________________________________________\n",
      "dense_5 (Dense)              (None, 1)                 17        \n",
      "=================================================================\n",
      "Total params: 320,017\n",
      "Trainable params: 320,017\n",
      "Non-trainable params: 0\n",
      "_________________________________________________________________\n",
      "None\n"
     ]
    }
   ],
   "source": [
    "DIMENSION = 16\n",
    "\n",
    "e_model = models.Sequential([\n",
    "    layers.Embedding(NUM_WORDS, DIMENSION, input_length=LEN_WORDS),\n",
    "    layers.GlobalAveragePooling1D(),\n",
    "    layers.Dense(1, activation='sigmoid')\n",
    "])\n",
    "print(e_model.summary())"
   ]
  },
  {
   "cell_type": "code",
   "execution_count": 16,
   "metadata": {
    "colab": {
     "base_uri": "https://localhost:8080/",
     "height": 386
    },
    "colab_type": "code",
    "id": "-zCvD3qmsrJE",
    "outputId": "5adcf22e-9702-45df-fd40-83a16052bcd2"
   },
   "outputs": [
    {
     "name": "stdout",
     "output_type": "stream",
     "text": [
      "Train on 25000 samples\n",
      "Epoch 1/10\n",
      "25000/25000 [==============================] - 4s 162us/sample - loss: 0.6408 - accuracy: 0.7414\n",
      "Epoch 2/10\n",
      "25000/25000 [==============================] - 4s 155us/sample - loss: 0.4794 - accuracy: 0.8372\n",
      "Epoch 3/10\n",
      "25000/25000 [==============================] - 4s 158us/sample - loss: 0.3703 - accuracy: 0.8763\n",
      "Epoch 4/10\n",
      "25000/25000 [==============================] - 4s 163us/sample - loss: 0.3089 - accuracy: 0.8924\n",
      "Epoch 5/10\n",
      "25000/25000 [==============================] - 4s 163us/sample - loss: 0.2695 - accuracy: 0.9054\n",
      "Epoch 6/10\n",
      "25000/25000 [==============================] - 4s 162us/sample - loss: 0.2404 - accuracy: 0.9173\n",
      "Epoch 7/10\n",
      "25000/25000 [==============================] - 4s 160us/sample - loss: 0.2178 - accuracy: 0.9242\n",
      "Epoch 8/10\n",
      "25000/25000 [==============================] - 4s 167us/sample - loss: 0.1981 - accuracy: 0.9323\n",
      "Epoch 9/10\n",
      "25000/25000 [==============================] - 4s 173us/sample - loss: 0.1810 - accuracy: 0.9386\n",
      "Epoch 10/10\n",
      "25000/25000 [==============================] - 4s 157us/sample - loss: 0.1661 - accuracy: 0.9445\n"
     ]
    },
    {
     "data": {
      "text/plain": [
       "<tensorflow.python.keras.callbacks.History at 0x7f1bb5e07e80>"
      ]
     },
     "execution_count": 16,
     "metadata": {
      "tags": []
     },
     "output_type": "execute_result"
    }
   ],
   "source": [
    "e_model.compile(optimizer='adam', loss='binary_crossentropy', metrics=['accuracy'])\n",
    "e_model.fit(train_data, train_labels, epochs=10)"
   ]
  },
  {
   "cell_type": "code",
   "execution_count": 0,
   "metadata": {
    "colab": {},
    "colab_type": "code",
    "id": "yukgClPctbZi"
   },
   "outputs": [],
   "source": []
  }
 ],
 "metadata": {
  "colab": {
   "collapsed_sections": [],
   "name": "Packt_4_2.ipynb",
   "provenance": [],
   "version": "0.3.2"
  },
  "kernelspec": {
   "display_name": "Python 3 (ipykernel)",
   "language": "python",
   "name": "python3"
  },
  "language_info": {
   "codemirror_mode": {
    "name": "ipython",
    "version": 3
   },
   "file_extension": ".py",
   "mimetype": "text/x-python",
   "name": "python",
   "nbconvert_exporter": "python",
   "pygments_lexer": "ipython3",
   "version": "3.7.12"
  }
 },
 "nbformat": 4,
 "nbformat_minor": 1
}
